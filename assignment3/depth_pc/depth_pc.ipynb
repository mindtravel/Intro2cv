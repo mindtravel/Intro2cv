{
 "cells": [
  {
   "cell_type": "code",
   "execution_count": 139,
   "metadata": {},
   "outputs": [],
   "source": [
    "import numpy as np\n",
    "import cv2"
   ]
  },
  {
   "cell_type": "code",
   "execution_count": 140,
   "metadata": {},
   "outputs": [
    {
     "name": "stdout",
     "output_type": "stream",
     "text": [
      "[[415.69219382   0.         320.        ]\n",
      " [  0.         415.69219382 240.        ]\n",
      " [  0.           0.           1.        ]]\n"
     ]
    }
   ],
   "source": [
    "# read depth image\n",
    "depth_scale = 0.00012498664727900177\n",
    "depth_img = cv2.imread('depth.png')\n",
    "dpt = depth_img[:, :, 2] + depth_img[:, :, 1] * 256\n",
    "dpt = dpt * depth_scale\n",
    "\n",
    "# read seg image\n",
    "seg = cv2.imread('seg.png')[...,0]  # 255: fore ground, 0: background\n",
    "\n",
    "# read intrinsics and extrinsics\n",
    "K = np.load('intrinsic.npy')\n",
    "\n",
    "# print(dpt.shape, depth_img.shape)\n",
    "print(K)"
   ]
  },
  {
   "cell_type": "code",
   "execution_count": 141,
   "metadata": {},
   "outputs": [],
   "source": [
    "# task1: convert depth image to point cloud\n",
    "def depth2pc(depth, seg, K):\n",
    "    alpha, _, c_x = K[0]\n",
    "    _, beta, c_y = K[1]\n",
    "    \n",
    "    coordinate = np.where(seg != 0)\n",
    "    z = depth[coordinate]\n",
    "    u, v = coordinate[0], coordinate[1]\n",
    "    x = (u - c_x) * z / alpha\n",
    "    y = (v - c_y) * z / beta\n",
    "    # print(x.shape)\n",
    "    n = x.shape[0]\n",
    "    pc = np.concatenate((x,y,z), axis=0).reshape(n, 3)\n",
    "    return pc\n",
    "\n",
    "partial_pc = depth2pc(dpt, seg, K)\n",
    "\n",
    "# For debug and submission\n",
    "np.savetxt('../results/pc_from_depth.txt', partial_pc)"
   ]
  },
  {
   "cell_type": "code",
   "execution_count": 142,
   "metadata": {},
   "outputs": [
    {
     "name": "stdout",
     "output_type": "stream",
     "text": [
      "(6858, 3) (19375, 3)\n",
      "one way chamfer distance:  1.105627613046914\n"
     ]
    }
   ],
   "source": [
    "# task2: compute one-way chamfer distance to the complete shape\n",
    "full_pc = np.loadtxt('aligned_full_pc.txt')\n",
    "print(full_pc.shape, partial_pc.shape)\n",
    "\n",
    "def random_sample(pc, num):\n",
    "    permu = np.random.permutation(pc.shape[0])\n",
    "    return pc[permu][:num]\n",
    "\n",
    "partial_pc_sampled = random_sample(partial_pc, 2048)\n",
    "full_pc_sampled = random_sample(full_pc, 2048)\n",
    "\n",
    "def one_way_CD(P, Q):\n",
    "    dist_matrix = np.linalg.norm(Q[:, np.newaxis, :] - P, axis = 2)\n",
    "    min_dist = np.min(dist_matrix, axis = 1)\n",
    "    sum_min_dist = np.sum(min_dist)\n",
    "    return sum_min_dist/P.shape[0]  \n",
    "# -----------TODO---------------\n",
    "# implement one way chamfer distance\n",
    "# -----------TODO---------------\n",
    "\n",
    "# one_way_CD = one_way_CD(partial_pc, full_pc)\n",
    "one_way_CD = one_way_CD(partial_pc_sampled, full_pc_sampled)\n",
    "print('one way chamfer distance: ', one_way_CD)\n",
    "\n",
    "# For submission\n",
    "np.savetxt('../results/one_way_CD.txt', [one_way_CD])"
   ]
  }
 ],
 "metadata": {
  "kernelspec": {
   "display_name": "Python 3",
   "language": "python",
   "name": "python3"
  },
  "language_info": {
   "codemirror_mode": {
    "name": "ipython",
    "version": 3
   },
   "file_extension": ".py",
   "mimetype": "text/x-python",
   "name": "python",
   "nbconvert_exporter": "python",
   "pygments_lexer": "ipython3",
   "version": "3.11.4"
  },
  "orig_nbformat": 4
 },
 "nbformat": 4,
 "nbformat_minor": 2
}
